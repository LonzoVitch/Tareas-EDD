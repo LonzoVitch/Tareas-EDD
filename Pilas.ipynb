{
  "nbformat": 4,
  "nbformat_minor": 0,
  "metadata": {
    "colab": {
      "name": "Pilas.ipynb",
      "provenance": [],
      "collapsed_sections": [],
      "authorship_tag": "ABX9TyPYRKnTg7EIA89PMHfSm3lV",
      "include_colab_link": true
    },
    "kernelspec": {
      "name": "python3",
      "display_name": "Python 3"
    },
    "language_info": {
      "name": "python"
    }
  },
  "cells": [
    {
      "cell_type": "markdown",
      "metadata": {
        "id": "view-in-github",
        "colab_type": "text"
      },
      "source": [
        "<a href=\"https://colab.research.google.com/github/LonzoVitch/Tareas-EDD/blob/main/Pilas.ipynb\" target=\"_parent\"><img src=\"https://colab.research.google.com/assets/colab-badge.svg\" alt=\"Open In Colab\"/></a>"
      ]
    },
    {
      "cell_type": "code",
      "metadata": {
        "id": "rqaecD2uM1US"
      },
      "source": [
        "class StackADT:\n",
        "  def __init__( self ):\n",
        "    self.__data = list()\n",
        "\n",
        " #Regresa true si la pila esta vacía\n",
        "  def is_empty( self ):\n",
        "    return len( self.__data ) == 0\n",
        "\n",
        "  def get_length( self ):\n",
        "    return len(self.__data )\n",
        "\n",
        "  def pop( self ):\n",
        "    if self.is_empty():\n",
        "      print(\"Pila vacía\")\n",
        "    else: \n",
        "      return self.__data.pop()\n",
        "\n",
        "  def peek( self ):\n",
        "     if self.is_empty():\n",
        "      print(\"Pila vacía\")\n",
        "     else: \n",
        "      return self.__data[ -1 ]\n",
        "\n",
        "  def push( self, value ):\n",
        "    self.__data.append( value )\n",
        "\n",
        "  def to_string( self ):\n",
        "    for item in self.__data[::-1]:\n",
        "      print(f\"| { item } | \")"
      ],
      "execution_count": 6,
      "outputs": []
    },
    {
      "cell_type": "code",
      "metadata": {
        "id": "eWDMaa11Qc5I",
        "colab": {
          "base_uri": "https://localhost:8080/"
        },
        "outputId": "6d188aef-e575-43b6-9068-c1a3b0628d99"
      },
      "source": [
        "pila = StackADT()\n",
        "print(\"¿Esta vacía? = \", pila.is_empty() )\n",
        "print(\"# Elementos:\" , pila.get_length() )\n",
        "pila.push(10)\n",
        "print(\"¿Esta vacía? = \", pila.is_empty() )\n",
        "print(\"# Elementos:\" , pila.get_length() )\n",
        "pila.push(20)\n",
        "pila.push(30)\n",
        "pila.push(40)\n",
        "pila.to_string()\n",
        "print(pila.pop())   # 40\n",
        "print(pila.peek() ) # 30\n",
        "pila.to_string()"
      ],
      "execution_count": 7,
      "outputs": [
        {
          "output_type": "stream",
          "name": "stdout",
          "text": [
            "¿Esta vacía? =  True\n",
            "# Elementos: 0\n",
            "¿Esta vacía? =  False\n",
            "# Elementos: 1\n",
            "| 40 | \n",
            "| 30 | \n",
            "| 20 | \n",
            "| 10 | \n",
            "40\n",
            "30\n",
            "| 30 | \n",
            "| 20 | \n",
            "| 10 | \n"
          ]
        }
      ]
    },
    {
      "cell_type": "markdown",
      "metadata": {
        "id": "oquQIKKJykfR"
      },
      "source": [
        "Aplicación de pilas, balanceo de llaves en programación\n",
        "\n",
        "\n",
        "1.- Hacer unprograma que impemente el algoritmo de pila vacía para verificar balanceo de llaves ( '{' y '}') y balanceo de parénteisis ( '(' y ')') para codigo de programacion C y, C++ y Java. Tiene que detener el análisis cuando se detcte que los parecentesis o llaves estan desbalanceados\n",
        "\n",
        "Idealmente (No obligatorio) encapsular esta lógica en una clase (ADT) de la POO\n",
        "\n",
        "\n",
        "\n",
        "\n"
      ]
    },
    {
      "cell_type": "code",
      "metadata": {
        "id": "DYbzRjUyzPQN",
        "colab": {
          "base_uri": "https://localhost:8080/"
        },
        "outputId": "8d3af049-e055-49c9-f0b5-eb5ce611f26b"
      },
      "source": [
        "!cat prog.txt"
      ],
      "execution_count": 15,
      "outputs": [
        {
          "output_type": "stream",
          "name": "stdout",
          "text": [
            "#\r\n",
            "[{{()}}]"
          ]
        }
      ]
    },
    {
      "cell_type": "code",
      "metadata": {
        "colab": {
          "base_uri": "https://localhost:8080/"
        },
        "id": "FIeJRHi2yilY",
        "outputId": "bdfed924-813b-4dc0-a2de-da9173a525c8"
      },
      "source": [
        "entrada = open('prog.txt' , 'rt')\n",
        "codigo = entrada.read()\n",
        "\n",
        "pilaControl = StackADT()\n",
        "pilaControl.push(\"#\")\n",
        "\n",
        "for letra in codigo:\n",
        " \n",
        "  if letra == '{':\n",
        "    pilaControl.push(\"{\")\n",
        "  elif letra == '}':\n",
        "    if pilaControl.peek()=='#':\n",
        "        pilaControl.push('{')\n",
        "  \n",
        "    else: \n",
        "      Out= pilaControl.pop()\n",
        "\n",
        "  elif letra == '(':\n",
        "    pilaControl.push('(')\n",
        "  elif letra == (')'):\n",
        "    if pilaControl.peek() == '#':\n",
        "      pilaControl.push(')')\n",
        "  elif letra == ')':\n",
        "    if pilaControl.peek() == '#':\n",
        "      pilaControl.push(')')\n",
        "      break\n",
        "    else:\n",
        "      Out = pilaControl.pop()\n",
        "  else:\n",
        "    pass\n",
        "\n",
        "\n",
        "if pilaControl.peek() =='#':\n",
        "  print(\"El código proporcionado esta correctamente balanceado\")\n",
        "else:\n",
        "  print(\"El código no esta balanceado en llaves { y }\")"
      ],
      "execution_count": 19,
      "outputs": [
        {
          "output_type": "stream",
          "name": "stdout",
          "text": [
            "El código no esta balanceado en llaves { y }\n"
          ]
        }
      ]
    },
    {
      "cell_type": "markdown",
      "metadata": {
        "id": "G4PqMZ757JiG"
      },
      "source": [
        "#Aplicacion de Pilas\n",
        "\n",
        "##Estrategias de diseño de algoritmos BACKTRACKING\n"
      ]
    },
    {
      "cell_type": "code",
      "metadata": {
        "id": "-rN8KLIk7RNa",
        "colab": {
          "base_uri": "https://localhost:8080/"
        },
        "outputId": "fcd8fb49-f084-48a2-ce21-953ca030fb42"
      },
      "source": [
        ""
      ],
      "execution_count": null,
      "outputs": [
        {
          "output_type": "stream",
          "name": "stdout",
          "text": [
            "[False, False, False, False, False, False, False, False, False]\n"
          ]
        }
      ]
    }
  ]
}