{
  "nbformat": 4,
  "nbformat_minor": 0,
  "metadata": {
    "colab": {
      "name": "ListasLigadasADT",
      "provenance": [],
      "authorship_tag": "ABX9TyMogKuMUMcE9P3SZJuASMe7",
      "include_colab_link": true
    },
    "kernelspec": {
      "name": "python3",
      "display_name": "Python 3"
    },
    "language_info": {
      "name": "python"
    }
  },
  "cells": [
    {
      "cell_type": "markdown",
      "metadata": {
        "id": "view-in-github",
        "colab_type": "text"
      },
      "source": [
        "<a href=\"https://colab.research.google.com/github/LonzoVitch/Tareas-EDD/blob/main/ListasLigadasADT.ipynb\" target=\"_parent\"><img src=\"https://colab.research.google.com/assets/colab-badge.svg\" alt=\"Open In Colab\"/></a>"
      ]
    },
    {
      "cell_type": "code",
      "metadata": {
        "id": "H6PKkf_u3Tdp"
      },
      "source": [
        "class Nodo:\n",
        "  def __init__(self, value, siguiente = None):\n",
        "    self.data = value\n",
        "    self.next = siguiente\n",
        "    "
      ],
      "execution_count": 24,
      "outputs": []
    },
    {
      "cell_type": "code",
      "metadata": {
        "id": "pvEpWe0n3gu2",
        "colab": {
          "base_uri": "https://localhost:8080/"
        },
        "outputId": "05e1eb55-c127-4fb4-af36-47abded25a68"
      },
      "source": [
        "head = Nodo(10)\n",
        "print( head.data )"
      ],
      "execution_count": 25,
      "outputs": [
        {
          "output_type": "stream",
          "name": "stdout",
          "text": [
            "10\n"
          ]
        }
      ]
    },
    {
      "cell_type": "code",
      "metadata": {
        "id": "3tsCL_f63oCr",
        "colab": {
          "base_uri": "https://localhost:8080/"
        },
        "outputId": "695fcc83-3d31-4b7f-c692-65d89519d0f6"
      },
      "source": [
        "head  = Nodo(10)\n",
        "head.next = Nodo(20)\n",
        "print(f\"Primero={head.data}\")\n",
        "print(f\"Segundo={head.next.data}\")\n",
        "\n",
        "\n",
        "\n",
        "head = Nodo(10, Nodo(20))\n",
        "print(f\"Primero={ head.data}\")\n",
        "print(f\"Segundo={ head.next.data}\")\n",
        "\n",
        "\n",
        "curr_node = head\n",
        "while curr_node != None:\n",
        "  print(f\"| {curr_node.data} | --> \", end=\"\")\n",
        "  curr_node = curr_node.next\n",
        "print(\"\")\n",
        "\n"
      ],
      "execution_count": 26,
      "outputs": [
        {
          "output_type": "stream",
          "name": "stdout",
          "text": [
            "Primero=10\n",
            "Segundo=20\n",
            "Primero=10\n",
            "Segundo=20\n",
            "| 10 | --> | 20 | --> \n"
          ]
        }
      ]
    },
    {
      "cell_type": "code",
      "metadata": {
        "colab": {
          "base_uri": "https://localhost:8080/"
        },
        "id": "w0JO9HfX7b3T",
        "outputId": "e16698ae-0b7f-4a83-a9f8-f47d7a5a4c21"
      },
      "source": [
        "head = Nodo(10, Nodo(20, Nodo(30, Nodo(40))))\n",
        "\n",
        "\n",
        "curr_node = head\n",
        "while curr_node != None:\n",
        "  print(f\"| {curr_node.data } | --> \", end=\"\")\n",
        "  curr_node= curr_node.next\n",
        "print(\"\")\n",
        "\n",
        "print(head.data)\n",
        "curr_node = head\n",
        "while curr_node.next != None:\n",
        "  curr_node= curr_node.next\n",
        "print(curr_node.data)\n",
        "\n",
        "curr_node = head\n",
        "while curr_node.data != 20:\n",
        "  curr_node = curr_node.next\n",
        "print(curr_node.data)\n",
        "\n",
        "#crear nodo 25\n",
        "curr_node.next = Nodo (25,curr_node.next)\n",
        "print(\"Despues de insertar 25\")\n",
        "\n"
      ],
      "execution_count": 27,
      "outputs": [
        {
          "output_type": "stream",
          "name": "stdout",
          "text": [
            "| 10 | --> | 20 | --> | 30 | --> | 40 | --> \n",
            "10\n",
            "40\n",
            "20\n",
            "Despues de insertar 25\n"
          ]
        }
      ]
    },
    {
      "cell_type": "code",
      "metadata": {
        "id": "ZvLObmurc2Ie"
      },
      "source": [
        "class LinkedList:\n",
        "  def __init__( self ):\n",
        "    self.head = None\n",
        "\n",
        "  def is_empty( self ):\n",
        "    return self.head == None\n",
        "\n",
        "  def get_tail( self ):\n",
        "    if self.is_empty():\n",
        "      return None\n",
        "    else:\n",
        "      curr_node = self.head\n",
        "      return \n",
        "      curr_node = self.head\n",
        "      while curr_node.next != None:\n",
        "        curr_node = curr_node.next\n",
        "      return curr_node\n",
        "\n",
        "  def append( self, value ):\n",
        "    if self.head == None:\n",
        "      self.head = Nodo ( value)\n",
        "    else:\n",
        "      curr_node = self.head\n",
        "      while curr_node.next != None:\n",
        "        curr_node = curr_node.next\n",
        "      curr_node.next = Nodo(value)\n",
        "\n",
        "  def transversal( self ):\n",
        "    curr_node = self.head\n",
        "    while curr_node != None:\n",
        "      print(f\"| { curr_node.data} | -->\", end= \"\")\n",
        "      curr_node = curr_node.next\n",
        "    print(\"\")\n",
        "\n",
        "  def remove( self, value ):\n",
        "    if self.head == None:\n",
        "      print(\"Lista vacia, no se puede remover nada\")\n",
        "    else:\n",
        "      curr_node = self.head\n",
        "      aux = None\n",
        "      while curr_node.data != value : #Revusar cuando el valor no exista\n",
        "        aux = curr_node\n",
        "        curr_node = curr_node.next\n",
        "\n",
        "      if curr_node != None:\n",
        "        aux.next = curr_node.next\n",
        "        curr_node = None\n",
        "\n",
        "  def preppend( self, value ):\n",
        "      if self.head == None:\n",
        "        print(\" Esta vacio, no se puede hacer preppend\")\n",
        "      else:\n",
        "        aux = self.head\n",
        "        self.head = Nodo ( value, aux)\n",
        "\n",
        "  def pop( self ):\n",
        "    if self.head == None:\n",
        "      print(\"No se puede, no hay nada\")\n",
        "    else:\n",
        "      curr_node = self.head\n",
        "      aux = None\n",
        "      while curr_node.next != None:\n",
        "        aux = curr_node\n",
        "        curr_node = curr_node.next\n",
        "      if curr_node != None:\n",
        "        aux.next = curr_node.next\n",
        "        curr_node = None\n",
        "\n",
        "  def pop_first( self ):\n",
        "    if self.head == None:\n",
        "      print(\"No se puede, no hay nada\")\n",
        "    else:\n",
        "      curr_node = self.head\n",
        "      if curr_node != None:\n",
        "        self.head = curr_node.next\n",
        "\n"
      ],
      "execution_count": 28,
      "outputs": []
    },
    {
      "cell_type": "code",
      "metadata": {
        "id": "C7RBi1FpfqtQ",
        "colab": {
          "base_uri": "https://localhost:8080/"
        },
        "outputId": "ba5ec981-bb0d-411b-f5ed-ce5872b1fdda"
      },
      "source": [
        "lista = LinkedList()\n",
        "if lista.is_empty():\n",
        "  print(\"La lista esta vacia\")\n",
        "else: \n",
        "  print(\"La lista no esta vacia\")\n",
        "\n",
        "print(\"Despues del append con 10, 20, 30, 40 y 50\") #Append\n",
        "lista.append(10)   \n",
        "lista.append(20)\n",
        "lista.append(30)\n",
        "lista.append(40)\n",
        "lista.append(50)\n",
        "\n",
        "lista.transversal() #Transversal\n",
        "\n",
        "nodo= lista.get_tail()#Get cola\n",
        "if nodo != None :\n",
        "  print(nodo.data)\n",
        "else:\n",
        "  print(\"Lista esta vacia\")\n",
        "\n",
        "lista.transversal()\n",
        "lista.remove(30)\n",
        "lista.transversal()\n",
        "lista.preppend(5)\n",
        "lista.transversal()\n",
        "\n",
        "lista.pop()\n",
        "print(\"Lista despues de pop\")#POP\n",
        "lista.transversal()\n",
        "\n",
        "lista.pop_first()\n",
        "print(\"Despues de pop first\")#POP FIRST\n",
        "lista.transversal()"
      ],
      "execution_count": 29,
      "outputs": [
        {
          "output_type": "stream",
          "name": "stdout",
          "text": [
            "La lista esta vacia\n",
            "Despues del append con 10, 20, 30, 40 y 50\n",
            "| 10 | -->| 20 | -->| 30 | -->| 40 | -->| 50 | -->\n",
            "Lista esta vacia\n",
            "| 10 | -->| 20 | -->| 30 | -->| 40 | -->| 50 | -->\n",
            "| 10 | -->| 20 | -->| 40 | -->| 50 | -->\n",
            "| 5 | -->| 10 | -->| 20 | -->| 40 | -->| 50 | -->\n",
            "Lista despues de pop\n",
            "| 5 | -->| 10 | -->| 20 | -->| 40 | -->\n",
            "Despues de pop first\n",
            "| 10 | -->| 20 | -->| 40 | -->\n"
          ]
        }
      ]
    },
    {
      "cell_type": "markdown",
      "metadata": {
        "id": "VYxzGmpernLY"
      },
      "source": [
        "ADT LISTA DOBLEMENTE LIGADA"
      ]
    },
    {
      "cell_type": "code",
      "metadata": {
        "id": "HvDatPsDrmw4"
      },
      "source": [
        "class NodoDoble:\n",
        "  def __init__( self , value , siguiente = None, previo = None):\n",
        "    self.data = value\n",
        "    self.next = siguiente\n",
        "    self.prev = previo\n"
      ],
      "execution_count": 30,
      "outputs": []
    },
    {
      "cell_type": "code",
      "metadata": {
        "colab": {
          "base_uri": "https://localhost:8080/"
        },
        "id": "ZllslPe3t9OB",
        "outputId": "3939b41f-141f-4fab-f673-e9f407cf4ca4"
      },
      "source": [
        "#Ejercicio uno\n",
        "head = NodoDoble(10)\n",
        "tail = head\n",
        "print( head.data )\n",
        "print( tail.data )\n",
        "\n",
        "#Ejercicio dos\n",
        "head = NodoDoble(10, NodoDoble (20))\n",
        "head.next.prev = head\n",
        "tail = head.next\n",
        "print(\"El primero:\" , head.data)\n",
        "print(\"El primero:\" , tail.prev.data)\n",
        "print(\"El segundo:\", tail.data)\n",
        "print(\"El segundo:\" , head.next.data)\n",
        "\n",
        "#Ejercicio 3\n",
        "head = NodoDoble(10, NodoDoble(20, NodoDoble(30, NodoDoble(40))))\n",
        "head.next.prev = head\n",
        "tail = head.next.next.next\n",
        "print(tail.data)\n",
        "print(head.data)\n",
        "#EL QUE HICE (ARIIBA),  AHORA EL DEL PROFE (ABAJO)\n",
        "head = NodoDoble(10, NodoDoble(20, NodoDoble(30, NodoDoble(40))))\n",
        "tail = head.next.next.next\n",
        "head.next.prev = head \n",
        "head.next.next.prev = head.next\n",
        "tail.prev = head.next.next\n",
        "print(\"El primero:\", head.data) #Por head\n",
        "print(\"El primero:\", tail.prev.prev.prev.data) #Por tail\n",
        "print(\"EL ultimo:\", tail.data) #Por tail\n",
        "print(\"El ultimo:\", head.next.next.next.data) #Por head\n",
        "\n",
        "#Transversal\n",
        "curr_node = head\n",
        "while curr_node != None:\n",
        "  print(f\"|{curr_node.data}|-->\", end=\"\")\n",
        "  curr_node = curr_node.next\n",
        "print(\"\")\n",
        "\n",
        "#Reverse Transversal\n",
        "curr_node = tail\n",
        "while curr_node != None:\n",
        "  print(f\"|{curr_node.data}|-->\", end=\"\")\n",
        "  curr_node = curr_node.prev\n",
        "print(\"\")\n",
        "\n",
        "print(\"Agregando 50 al final\")\n",
        "tail.next = NodoDoble(50, None, tail) # Agregar un valor nuevo al final\n",
        "tail = tail.next\n",
        "curr_node = head\n",
        "while curr_node != None:\n",
        "  print(f\"|{curr_node.data}|-->\", end=\"\")\n",
        "  curr_node = curr_node.next\n",
        "print(\"\")\n",
        "\n",
        "tail.next = NodoDoble(50, None, tail) # Agregar un valor nuevo al final\n",
        "curr_node = tail\n",
        "while curr_node != None:\n",
        "  print(f\"|{curr_node.data}|-->\", end=\"\")\n",
        "  curr_node = curr_node.prev\n",
        "print(\"\")\n"
      ],
      "execution_count": 31,
      "outputs": [
        {
          "output_type": "stream",
          "name": "stdout",
          "text": [
            "10\n",
            "10\n",
            "El primero: 10\n",
            "El primero: 10\n",
            "El segundo: 20\n",
            "El segundo: 20\n",
            "40\n",
            "10\n",
            "El primero: 10\n",
            "El primero: 10\n",
            "EL ultimo: 40\n",
            "El ultimo: 40\n",
            "|10|-->|20|-->|30|-->|40|-->\n",
            "|40|-->|30|-->|20|-->|10|-->\n",
            "Agregando 50 al final\n",
            "|10|-->|20|-->|30|-->|40|-->|50|-->\n",
            "|50|-->|40|-->|30|-->|20|-->|10|-->\n"
          ]
        }
      ]
    },
    {
      "cell_type": "code",
      "metadata": {
        "id": "R8I5nfka864d"
      },
      "source": [
        "class DoubleLinkedList:    #Constructor\n",
        "  def __init__( self ):\n",
        "    self.head = None\n",
        "    self.tail = None\n",
        "    self.size = 0\n",
        "\n",
        "  def get_size( self ):   #Get_size\n",
        "    return self.get_size\n",
        "\n",
        "  def is_empty( self ): #True si la lista esta vacía  \n",
        "    return self.size == 0\n",
        "\n",
        "  def append( self, value ): #Append\n",
        "    if self.is_empty():\n",
        "      self.head = NodoDoble( value )\n",
        "      self.tail = self.head\n",
        "    else:\n",
        "      self.tail.next = NodoDoble(value, None, self.tail)\n",
        "\n",
        "      self.tail = self.tail.next\n",
        "    self.size += 1\n",
        "\n",
        "  def transversal( self):   #Transversal\n",
        "    curr_node = self.head\n",
        "    while curr_node != None :\n",
        "      print(f\"| {curr_node.data} |--> \", end=\"\")\n",
        "      curr_node = curr_node.next\n",
        "    print(\"\")\n",
        "\n",
        "  def remove_from_tail( self, value ): #Remove from tail\n",
        "    curr_node = self.head\n",
        "    while curr_node.data != value:\n",
        "      curr_node = curr_node.next\n",
        "    \n",
        "    if curr_node.data == value:\n",
        "      curr_node.prev.next = curr_node.next\n",
        "      curr_node.next.prev = curr_node.prev\n",
        "\n",
        "    self.size -=1\n",
        "      \n",
        "  def remove_from_head( self, value ):\n",
        "    curr_node = self.tail\n",
        "    while curr_node.data != value:\n",
        "      curr_node = curr_node.next\n",
        "\n",
        "    if curr_node.data == value:\n",
        "      curr_node.prev.prev = curr_node.prev\n",
        "      curr_node.prev.next = curr_node.next\n",
        "  \n",
        "  def find_from_tail( self, value ):\n",
        "    curr_node = self.__tail\n",
        "    contador = self.get_size()\n",
        "\n",
        "    while (curr_node.data != value) and (curr_node.prev != None):\n",
        "      curr_node = curr_node.prev\n",
        "      contador -=1\n",
        "    if curr_node.data == value:\n",
        "      contador = contador\n",
        "    else:\n",
        "        print(\"No hay nada, no se puede\")\n",
        "        contador = None\n",
        "    return contador\n",
        "\n",
        "  def find_from_head( self, value):\n",
        "    curr_node = self.__head\n",
        "    contador = 0\n",
        "    if self.is_empty():\n",
        "      print(\"No hay nada, no se puede\")\n",
        "    else :\n",
        "      while curr_node.data != value:\n",
        "        curr_node = curr_node.next\n",
        "        contador +=1\n",
        "      if curr_node.data == value:\n",
        "        return contador    \n",
        "\n",
        "\n"
      ],
      "execution_count": 43,
      "outputs": []
    },
    {
      "cell_type": "code",
      "metadata": {
        "colab": {
          "base_uri": "https://localhost:8080/"
        },
        "id": "K-eW78Hy_7DD",
        "outputId": "b8b84a2d-1aee-4b13-c5ff-c1d72da93406"
      },
      "source": [
        "ldl = DoubleLinkedList()\n",
        "ldl.append(10)\n",
        "ldl.append(20)\n",
        "ldl.append(30)\n",
        "ldl.append(40)\n",
        "ldl.transversal()\n",
        "print(f\"Esta vacía? { ldl.is_empty()}\")\n",
        "\n",
        "ldl.remove_from_tail(20)\n",
        "ldl.transversal()\n",
        "\n",
        "\n",
        "ldl.find_from_tail(10)\n",
        "\n",
        "\n",
        "ldl.transversal()\n",
        "\n",
        "\n",
        "\n"
      ],
      "execution_count": 42,
      "outputs": [
        {
          "output_type": "stream",
          "name": "stdout",
          "text": [
            "| 10 |--> | 20 |--> | 30 |--> | 40 |--> \n",
            "Esta vacía? False\n",
            "| 10 |--> | 30 |--> | 40 |--> \n",
            "| 10 |--> | 30 |--> | 40 |--> \n"
          ]
        }
      ]
    }
  ]
}