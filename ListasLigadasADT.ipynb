{
  "nbformat": 4,
  "nbformat_minor": 0,
  "metadata": {
    "colab": {
      "name": "ListasLigadasADT",
      "provenance": [],
      "authorship_tag": "ABX9TyPQi3jlDjz4LuFZD2Ydb2dX",
      "include_colab_link": true
    },
    "kernelspec": {
      "name": "python3",
      "display_name": "Python 3"
    },
    "language_info": {
      "name": "python"
    }
  },
  "cells": [
    {
      "cell_type": "markdown",
      "metadata": {
        "id": "view-in-github",
        "colab_type": "text"
      },
      "source": [
        "<a href=\"https://colab.research.google.com/github/LonzoVitch/Tareas-EDD/blob/main/ListasLigadasADT.ipynb\" target=\"_parent\"><img src=\"https://colab.research.google.com/assets/colab-badge.svg\" alt=\"Open In Colab\"/></a>"
      ]
    },
    {
      "cell_type": "code",
      "metadata": {
        "id": "H6PKkf_u3Tdp"
      },
      "source": [
        "class Nodo:\n",
        "  def __init__(self, value, siguiente = None):\n",
        "    self.data = value\n",
        "    self.next = siguiente\n",
        "    "
      ],
      "execution_count": null,
      "outputs": []
    },
    {
      "cell_type": "code",
      "metadata": {
        "id": "pvEpWe0n3gu2",
        "colab": {
          "base_uri": "https://localhost:8080/"
        },
        "outputId": "32c1f50f-750c-45e7-f563-b94ef3fd8ce6"
      },
      "source": [
        "head = Nodo(10)\n",
        "print( head.data )"
      ],
      "execution_count": null,
      "outputs": [
        {
          "output_type": "stream",
          "name": "stdout",
          "text": [
            "10\n"
          ]
        }
      ]
    },
    {
      "cell_type": "code",
      "metadata": {
        "id": "3tsCL_f63oCr"
      },
      "source": [
        "head  = Nodo(10)\n",
        "head.next = Nodo(20)\n",
        "print(f\"Primero={head.data}\")\n",
        "print(f\"Segundo={head.next.data}\")\n",
        "\n",
        "\n",
        "\n",
        "head = Nodo(10, Nodo(20))\n",
        "print(f\"Primero={ head.data}\")\n",
        "print(f\"Segundo={ head.next.data}\")\n",
        "\n",
        "\n",
        "curr_node = head\n",
        "while curr_node != None:\n",
        "  print(f\"| {curr_node.data} | --> \", end=\"\")\n",
        "  curr_node = curr_node.next\n",
        "print(\"\")\n",
        "\n"
      ],
      "execution_count": null,
      "outputs": []
    },
    {
      "cell_type": "code",
      "metadata": {
        "colab": {
          "base_uri": "https://localhost:8080/"
        },
        "id": "w0JO9HfX7b3T",
        "outputId": "9b925e64-1ec8-42de-ff5a-56f67b4e7699"
      },
      "source": [
        "head = Nodo(10, Nodo(20, Nodo(30, Nodo(40))))\n",
        "\n",
        "\n",
        "curr_node = head\n",
        "while curr_node != None:\n",
        "  print(f\"| {curr_node.data } | --> \", end=\"\")\n",
        "  curr_node= curr_node.next\n",
        "print(\"\")\n",
        "\n",
        "print(head.data)\n",
        "curr_node = head\n",
        "while curr_node.next != None:\n",
        "  curr_node= curr_node.next\n",
        "print(curr_node.data)\n",
        "\n",
        "curr_node = head\n",
        "while curr_node.data != 20:\n",
        "  curr_node = curr_node.next\n",
        "print(curr_node.data)\n",
        "\n",
        "#crear nodo 25\n",
        "curr_node.next = Nodo (25,curr_node.next)\n",
        "print(\"Despues de insertar 25\")\n",
        "\n"
      ],
      "execution_count": null,
      "outputs": [
        {
          "output_type": "stream",
          "name": "stdout",
          "text": [
            "| 10 | --> | 20 | --> | 30 | --> | 40 | --> \n",
            "10\n",
            "40\n",
            "20\n",
            "Despues de insertar 25\n",
            "20\n"
          ]
        }
      ]
    },
    {
      "cell_type": "code",
      "metadata": {
        "id": "ZvLObmurc2Ie"
      },
      "source": [
        "class LinkedList:\n",
        "  def __init__( self ):\n",
        "    self.head = None\n",
        "\n",
        "  def is_empty( self ):\n",
        "    return self.head == None\n",
        "\n",
        "  def get_tail( self ):\n",
        "    if self.is_empty():\n",
        "      return None\n",
        "    else:\n",
        "      curr_node = self.head\n",
        "      return \n",
        "      curr_node = self.head\n",
        "      while curr_node.next != None:\n",
        "        curr_node = curr_node.next\n",
        "      return curr_node\n",
        "\n",
        "  def append( self, value ):\n",
        "    if self.head == None:\n",
        "      self.head = Nodo ( value)\n",
        "    else:\n",
        "      curr_node = self.head\n",
        "      while curr_node.next != None:\n",
        "        curr_node = curr_node.next\n",
        "      curr_node.next = Nodo(value)\n",
        "\n",
        "  def transversal( self ):\n",
        "    curr_node = self.head\n",
        "    while curr_node != None:\n",
        "      print(f\"| { curr_node.data} | -->\", end= \"\")\n",
        "      curr_node = curr_node.next\n",
        "    print(\"\")\n",
        "\n",
        "  def remove( self, value ):\n",
        "    if self.head == None:\n",
        "      print(\"Lista vacia, no se puede remover nada\")\n",
        "    else:\n",
        "      curr_node = self.head\n",
        "      aux = None\n",
        "      while curr_node.data != value : #Revusar cuando el valor no exista\n",
        "        aux = curr_node\n",
        "        curr_node = curr_node.next\n",
        "\n",
        "      if curr_node != None:\n",
        "        aux.next = curr_node.next\n",
        "        curr_node = None\n",
        "\n",
        "  def preppend( self, value ):\n",
        "      if self.head == None:\n",
        "        print(\" Esta vacio, no se puede hacer preppend\")\n",
        "      else:\n",
        "        aux = self.head\n",
        "        self.head = Nodo ( value, aux)\n",
        "\n",
        "  def pop(self)\n",
        "\n",
        "  def popfirst( self)\n",
        "\n",
        "\n"
      ],
      "execution_count": null,
      "outputs": []
    },
    {
      "cell_type": "code",
      "metadata": {
        "id": "C7RBi1FpfqtQ"
      },
      "source": [
        "lista = LinkedList()\n",
        "if lista.is_empty():\n",
        "  print(\"La lista esta vacia\")\n",
        "else: \n",
        "  print(\"La lista no esta vacia\")\n",
        "\n",
        "lista.append(10)\n",
        "lista.append(20)\n",
        "lista.append(30)\n",
        "lista.append(40)\n",
        "lista.append(50)\n",
        "\n",
        "nodo= lista.get_tail()\n",
        "if nodo != None :\n",
        "  print(nodo.data)\n",
        "else:\n",
        "  print(\"Lista esta vacia\")\n",
        "\n",
        "lista.transversal()\n",
        "lista.remove(30)\n",
        "lista.transversal()\n",
        "lista.preppend(5)\n",
        "lista.transversal()"
      ],
      "execution_count": null,
      "outputs": []
    },
    {
      "cell_type": "markdown",
      "metadata": {
        "id": "VYxzGmpernLY"
      },
      "source": [
        "ADT LISTA DOBLEMENTE LIGADA"
      ]
    },
    {
      "cell_type": "code",
      "metadata": {
        "id": "HvDatPsDrmw4"
      },
      "source": [
        "class NodoDoble:\n",
        "  def __init__( self , value , siguiente = None, previo = None):\n",
        "    self.data = value\n",
        "    self.next = siguiente\n",
        "    self.prev = previo\n"
      ],
      "execution_count": null,
      "outputs": []
    },
    {
      "cell_type": "code",
      "metadata": {
        "colab": {
          "base_uri": "https://localhost:8080/"
        },
        "id": "ZllslPe3t9OB",
        "outputId": "0999a199-ac37-4eec-839c-6ef7a6f994dc"
      },
      "source": [
        "#Ejercicio uno\n",
        "head = NodoDoble(10)\n",
        "tail = head\n",
        "print( head.data )\n",
        "print( tail.data )\n",
        "\n",
        "#Ejercicio dos\n",
        "head = NodoDoble(10, NodoDoble (20))\n",
        "head.next.prev = head\n",
        "tail = head.next\n",
        "print(\"El primero:\" , head.data)\n",
        "print(\"El primero:\" , tail.prev.data)\n",
        "print(\"El segundo:\", tail.data)\n",
        "print(\"El segundo:\" , head.next.data)\n",
        "\n",
        "#Ejercicio 3\n",
        "head = NodoDoble(10, NodoDoble(20, NodoDoble(30, NodoDoble(40))))\n",
        "head.next.prev = head\n",
        "tail = head.next.next.next\n",
        "print(tail.data)\n",
        "print(head.data)\n",
        "#EL QUE HICE (ARIIBA),  AHORA EL DEL PROFE (ABAJO)\n",
        "head = NodoDoble(10, NodoDoble(20, NodoDoble(30, NodoDoble(40))))\n",
        "tail = head.next.next.next\n",
        "head.next.prev = head \n",
        "head.next.next.prev = head.next\n",
        "tail.prev = head.next.next\n",
        "print(\"El primero:\", head.data) #Por head\n",
        "print(\"El primero:\", tail.prev.prev.prev.data) #Por tail\n",
        "print(\"EL ultimo:\", tail.data) #Por tail\n",
        "print(\"El ultimo:\", head.next.next.next.data) #Por head\n",
        "\n",
        "#Transversal\n",
        "curr_node = head\n",
        "while curr_node != None:\n",
        "  print(f\"|{curr_node.data}|-->\", end=\"\")\n",
        "  curr_node = curr_node.next\n",
        "print(\"\")\n",
        "\n",
        "#Reverse Transversal\n",
        "curr_node = tail\n",
        "while curr_node != None:\n",
        "  print(f\"|{curr_node.data}|-->\", end=\"\")\n",
        "  curr_node = curr_node.prev\n",
        "print(\"\")\n",
        "\n",
        "print(\"Agregando 50 al final\")\n",
        "tail.next = NodoDoble(50, None, tail) # Agregar un valor nuevo al final\n",
        "tail = tail.next\n",
        "curr_node = head\n",
        "while curr_node != None:\n",
        "  print(f\"|{curr_node.data}|-->\", end=\"\")\n",
        "  curr_node = curr_node.next\n",
        "print(\"\")\n",
        "\n",
        "tail.next = NodoDoble(50, None, tail) # Agregar un valor nuevo al final\n",
        "curr_node = tail\n",
        "while curr_node != None:\n",
        "  print(f\"|{curr_node.data}|-->\", end=\"\")\n",
        "  curr_node = curr_node.prev\n",
        "print(\"\")\n"
      ],
      "execution_count": null,
      "outputs": [
        {
          "output_type": "stream",
          "name": "stdout",
          "text": [
            "10\n",
            "10\n",
            "El primero: 10\n",
            "El primero: 10\n",
            "El segundo: 20\n",
            "El segundo: 20\n",
            "40\n",
            "10\n",
            "El primero: 10\n",
            "El primero: 10\n",
            "EL ultimo: 40\n",
            "El ultimo: 40\n",
            "|10|-->|20|-->|30|-->|40|-->\n",
            "|40|-->|30|-->|20|-->|10|-->\n",
            "Agregando 50 al final\n",
            "|10|-->|20|-->|30|-->|40|-->|50|-->\n",
            "|50|-->|40|-->|30|-->|20|-->|10|-->\n"
          ]
        }
      ]
    },
    {
      "cell_type": "code",
      "metadata": {
        "id": "R8I5nfka864d"
      },
      "source": [
        "class DoubleLinkedList:\n",
        "  def __init__( self ):\n",
        "    self.head = None\n",
        "    self.tail = None\n",
        "    self.size = 0\n",
        "\n",
        "  def get_size( self ):\n",
        "    return self.get_size\n",
        "\n",
        "  def is_empty( self ): #True si la lista esta vacía\n",
        "    return self.size == 0\n",
        "\n",
        "  def append( self, value ):\n",
        "    if self.is_empty():\n",
        "      self.head = NodoDoble( value )\n",
        "      self.tail = self.head\n",
        "    else:\n",
        "      self.tail.next = NodoDoble(value, None, tail)\n",
        "      self.tail = self.tail.next\n",
        "    self.size += 1\n",
        "\n",
        "  def transversal( self):\n",
        "    curr_node = self.head\n",
        "    while curr_node != None :\n",
        "      print(f\"| {curr_node.data} |--> \", end=\"\")\n",
        "      curr_node = curr_node.next\n",
        "    print(\"\")\n",
        "\n",
        "  def remove_from_tail(self, value ):\n",
        "    curr_node = self.head\n",
        "    while curr_node.data != value:\n",
        "      curr_node = curr_node.next\n",
        "    \n",
        "    if curr_node.data == value:\n",
        "      curr_node.prev.next = curr_node.next\n",
        "      curr_node.next.prev = curr_node.prev\n",
        "\n",
        "    self.size -=1\n",
        "      \n",
        "\n"
      ],
      "execution_count": null,
      "outputs": []
    },
    {
      "cell_type": "code",
      "metadata": {
        "colab": {
          "base_uri": "https://localhost:8080/"
        },
        "id": "K-eW78Hy_7DD",
        "outputId": "980278db-aa2c-4e14-f137-3f428355dfac"
      },
      "source": [
        "ldl = DoubleLinkedList()\n",
        "ldl.append(10)\n",
        "ldl.append(20)\n",
        "ldl.append(30)\n",
        "ldl.append(40)\n",
        "ldl.transversal()\n",
        "print(f\"Esta vacía? { ldl.is_empty()}\")\n",
        "\n",
        "ldl.remove_from_tail(30)\n"
      ],
      "execution_count": null,
      "outputs": [
        {
          "output_type": "stream",
          "name": "stdout",
          "text": [
            "| 10 |--> | 20 |--> | 30 |--> | 40 |--> \n",
            "Esta vacía? False\n",
            "<__main__.DoubleLinkedList object at 0x7ff11ec134d0>\n"
          ]
        }
      ]
    }
  ]
}