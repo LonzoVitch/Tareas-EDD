{
  "nbformat": 4,
  "nbformat_minor": 0,
  "metadata": {
    "colab": {
      "name": "Untitled2.ipynb",
      "provenance": [],
      "authorship_tag": "ABX9TyOsCTexOvamNxbm0UyZA4h9",
      "include_colab_link": true
    },
    "kernelspec": {
      "name": "python3",
      "display_name": "Python 3"
    },
    "language_info": {
      "name": "python"
    }
  },
  "cells": [
    {
      "cell_type": "markdown",
      "metadata": {
        "id": "view-in-github",
        "colab_type": "text"
      },
      "source": [
        "<a href=\"https://colab.research.google.com/github/LonzoVitch/Tareas-EDD/blob/main/Colas_Prioridad.ipynb\" target=\"_parent\"><img src=\"https://colab.research.google.com/assets/colab-badge.svg\" alt=\"Open In Colab\"/></a>"
      ]
    },
    {
      "cell_type": "code",
      "metadata": {
        "colab": {
          "base_uri": "https://localhost:8080/"
        },
        "id": "DZWMXG5BmxcP",
        "outputId": "13f092a4-ea1c-4f40-dbd4-a4b8c2f18178"
      },
      "source": [
        "try:\n",
        "    import Queue as queue\n",
        "except ImportError:\n",
        "    \n",
        "    import queue\n",
        "\n",
        "priority_queue = queue.PriorityQueue()\n",
        "\n",
        "priority_queue.put((2, \"Perro\"))\n",
        "priority_queue.put((3, \"Gato\"))\n",
        "priority_queue.put((7, \"Mamut\"))\n",
        "priority_queue.put((10, \"Mapache\"))\n",
        "priority_queue.put((1, \"Conejo\"))\n",
        "\n",
        "print(\"\\nCola de prioridad\")\n",
        "print(\"\")\n",
        "print(priority_queue.get())\n",
        "print(priority_queue.get())\n",
        "print(priority_queue.get())\n",
        "print(priority_queue.get())\n",
        "print(priority_queue.get())"
      ],
      "execution_count": 45,
      "outputs": [
        {
          "output_type": "stream",
          "name": "stdout",
          "text": [
            "\n",
            "Cola de prioridad\n",
            "\n",
            "(1, 'Conejo')\n",
            "(2, 'Perro')\n",
            "(3, 'Gato')\n",
            "(7, 'Mamut')\n",
            "(10, 'Mapache')\n"
          ]
        }
      ]
    }
  ]
}